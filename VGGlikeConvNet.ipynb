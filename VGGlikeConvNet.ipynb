{
  "nbformat": 4,
  "nbformat_minor": 0,
  "metadata": {
    "colab": {
      "name": "VGGlikeConvNet.ipynb",
      "version": "0.3.2",
      "provenance": [],
      "include_colab_link": true
    },
    "kernelspec": {
      "name": "python3",
      "display_name": "Python 3"
    }
  },
  "cells": [
    {
      "cell_type": "markdown",
      "metadata": {
        "id": "view-in-github",
        "colab_type": "text"
      },
      "source": [
        "[View in Colaboratory](https://colab.research.google.com/github/priyasin01/DEEP_LEARNING_MODELS/blob/master/VGGlikeConvNet.ipynb)"
      ]
    },
    {
      "metadata": {
        "id": "QBSBfzUD3Oe1",
        "colab_type": "code",
        "colab": {}
      },
      "cell_type": "code",
      "source": [
        ""
      ],
      "execution_count": 0,
      "outputs": []
    },
    {
      "metadata": {
        "id": "-ACJKy2a3RWL",
        "colab_type": "text"
      },
      "cell_type": "markdown",
      "source": [
        "##VGG-like convnet:##"
      ]
    },
    {
      "metadata": {
        "id": "Vm-Piem_3TT3",
        "colab_type": "code",
        "colab": {
          "base_uri": "https://localhost:8080/",
          "height": 36
        },
        "outputId": "f516bf9b-4d57-4826-c97e-2a76a53a4d52"
      },
      "cell_type": "code",
      "source": [
        "import keras\n",
        "from keras.models import Sequential\n",
        "from keras.layers import Dense, Dropout, Flatten, MaxPooling2D, Conv2D\n",
        "from keras.optimizers import SGD\n",
        "import numpy as np"
      ],
      "execution_count": 1,
      "outputs": [
        {
          "output_type": "stream",
          "text": [
            "Using TensorFlow backend.\n"
          ],
          "name": "stderr"
        }
      ]
    },
    {
      "metadata": {
        "id": "lYs9sZVu35wt",
        "colab_type": "code",
        "colab": {
          "base_uri": "https://localhost:8080/",
          "height": 413
        },
        "outputId": "f039a80a-02d5-4e53-e14b-92350188194c"
      },
      "cell_type": "code",
      "source": [
        "#Generating ummy data\n",
        "#Conv2D Output shape\n",
        "#4D tensor with shape: (samples, filters, new_rows, new_cols) if data_format='channels_first' or 4D tensor with shape: (samples, new_rows, new_cols, filters) if data_format='channels_last'. rows and cols values might have changed due to padding.\n",
        "#https://stackoverflow.com/questions/44972799/how-does-data-shape-change-during-conv2d-and-dense-in-keras\n",
        "x_train=np.random.random((100,100,100,3))\n",
        "y_train=keras.utils.to_categorical(np.random.randint(10, size=(100,1)), num_classes=10)\n",
        "x_test=np.random.random((20,100,100,3)) \n",
        "y_test=keras.utils.to_categorical(np.random.randint(10, size=(20,1)), num_classes=10)\n",
        "\n",
        "model=Sequential()\n",
        "# input: 100x100 images with 3 channels -> (100, 100, 3) tensors.\n",
        "# this applies 32 convolution filters of size 3x3 each.\n",
        "model.add(Conv2D(32,(3,3), activation='relu', input_shape=(100,100,3)))\n",
        "model.add(Conv2D(32,(3,3), activation='relu'))\n",
        "model.add(MaxPooling2D(pool_size=(2,2)))\n",
        "model.add(Dropout(0.25))\n",
        "\n",
        "model.add(Conv2D(64,(3,3),activation='relu'))\n",
        "model.add(Conv2D(64,(3,3),activation='relu'))\n",
        "model.add(MaxPooling2D(pool_size=(2,2)))\n",
        "model.add(Dropout(0.25))\n",
        "\n",
        "model.add(Flatten())\n",
        "model.add(Dense(256, activation='relu'))\n",
        "model.add(Dropout(0.5))\n",
        "model.add(Dense(10, activation='softmax'))\n",
        "\n",
        "\n",
        "sgd=SGD(lr=0.01, decay=1e-6, momentum=0.9, nesterov=True)\n",
        "model.compile(loss='categorical_crossentropy', optimizer=sgd, metrics=['accuracy'])\n",
        "model.fit(x_train, y_train, epochs=10, batch_size=32)\n",
        "score=model.evaluate(x_test,y_test, batch_size=32)"
      ],
      "execution_count": 10,
      "outputs": [
        {
          "output_type": "stream",
          "text": [
            "Epoch 1/10\n",
            "100/100 [==============================] - 6s 61ms/step - loss: 2.3100 - acc: 0.1000\n",
            "Epoch 2/10\n",
            "100/100 [==============================] - 5s 53ms/step - loss: 2.4289 - acc: 0.0500\n",
            "Epoch 3/10\n",
            "100/100 [==============================] - 5s 53ms/step - loss: 2.2823 - acc: 0.1400\n",
            "Epoch 4/10\n",
            "100/100 [==============================] - 5s 53ms/step - loss: 2.2682 - acc: 0.1000\n",
            "Epoch 5/10\n",
            "100/100 [==============================] - 5s 52ms/step - loss: 2.2875 - acc: 0.1100\n",
            "Epoch 6/10\n",
            "100/100 [==============================] - 5s 53ms/step - loss: 2.2761 - acc: 0.1100\n",
            "Epoch 7/10\n",
            "100/100 [==============================] - 5s 53ms/step - loss: 2.2663 - acc: 0.1700\n",
            "Epoch 8/10\n",
            "100/100 [==============================] - 5s 52ms/step - loss: 2.2676 - acc: 0.1100\n",
            "Epoch 9/10\n",
            "100/100 [==============================] - 5s 53ms/step - loss: 2.2390 - acc: 0.1700\n",
            "Epoch 10/10\n",
            "100/100 [==============================] - 5s 53ms/step - loss: 2.2492 - acc: 0.1500\n",
            "20/20 [==============================] - 0s 22ms/step\n"
          ],
          "name": "stdout"
        }
      ]
    },
    {
      "metadata": {
        "id": "zl7XvYXe84vd",
        "colab_type": "code",
        "colab": {
          "base_uri": "https://localhost:8080/",
          "height": 36
        },
        "outputId": "c179b839-cce8-4d82-e2d0-4ab1639444db"
      },
      "cell_type": "code",
      "source": [
        "score"
      ],
      "execution_count": 11,
      "outputs": [
        {
          "output_type": "execute_result",
          "data": {
            "text/plain": [
              "[2.3408148288726807, 0.15000000596046448]"
            ]
          },
          "metadata": {
            "tags": []
          },
          "execution_count": 11
        }
      ]
    },
    {
      "metadata": {
        "id": "3QWpHreD-GT2",
        "colab_type": "code",
        "colab": {}
      },
      "cell_type": "code",
      "source": [
        ""
      ],
      "execution_count": 0,
      "outputs": []
    }
  ]
}