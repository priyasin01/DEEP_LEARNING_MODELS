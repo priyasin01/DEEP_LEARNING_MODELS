{
  "nbformat": 4,
  "nbformat_minor": 0,
  "metadata": {
    "colab": {
      "name": "SequenceClassificationUsingConv1D.ipynb",
      "version": "0.3.2",
      "provenance": [],
      "include_colab_link": true
    },
    "kernelspec": {
      "name": "python3",
      "display_name": "Python 3"
    }
  },
  "cells": [
    {
      "cell_type": "markdown",
      "metadata": {
        "id": "view-in-github",
        "colab_type": "text"
      },
      "source": [
        "[View in Colaboratory](https://colab.research.google.com/github/priyasin01/DEEP_LEARNING_MODELS/blob/master/SequenceClassificationUsingConv1D.ipynb)"
      ]
    },
    {
      "metadata": {
        "id": "VGFIeSkhEx8n",
        "colab_type": "code",
        "colab": {}
      },
      "cell_type": "code",
      "source": [
        ""
      ],
      "execution_count": 0,
      "outputs": []
    },
    {
      "metadata": {
        "id": "oVmS5AuBE-mR",
        "colab_type": "text"
      },
      "cell_type": "markdown",
      "source": [
        "##Sequence classification with 1D convolutions:"
      ]
    },
    {
      "metadata": {
        "id": "ktNkeMp-FArG",
        "colab_type": "code",
        "colab": {
          "base_uri": "https://localhost:8080/",
          "height": 36
        },
        "outputId": "1f71cb48-aeb1-4ae1-deb0-f7b90ad932d3"
      },
      "cell_type": "code",
      "source": [
        "import keras\n",
        "from keras.models import Sequential\n",
        "from keras.layers import Dense, Dropout, MaxPooling1D, Conv1D, GlobalAveragePooling1D"
      ],
      "execution_count": 1,
      "outputs": [
        {
          "output_type": "stream",
          "text": [
            "Using TensorFlow backend.\n"
          ],
          "name": "stderr"
        }
      ]
    },
    {
      "metadata": {
        "id": "j1wiSeyVF_5D",
        "colab_type": "code",
        "colab": {
          "base_uri": "https://localhost:8080/",
          "height": 413
        },
        "outputId": "fc526bf3-34d3-40c7-b493-9040f95fb6b2"
      },
      "cell_type": "code",
      "source": [
        "#Generate dummy data\n",
        "import numpy as np\n",
        "x_train=np.random.random((100,64,100))\n",
        "y_train=np.random.randint(2,size=(100,1))\n",
        "x_test=np.random.random((20,64,100))\n",
        "y_test=np.random.randint(2,size=(20,1))\n",
        "\n",
        "#model creation\n",
        "seq_length=64\n",
        "model=Sequential()\n",
        "model.add(Conv1D(64,3,activation='relu', input_shape=(seq_length,100)))\n",
        "model.add(Conv1D(64,3,activation='relu'))\n",
        "model.add(MaxPooling1D(3))\n",
        "model.add(Conv1D(128,3,activation='relu'))\n",
        "model.add(Conv1D(128,3,activation='relu'))\n",
        "model.add(GlobalAveragePooling1D())\n",
        "model.add(Dropout(0.5))\n",
        "model.add(Dense(1,activation='sigmoid'))\n",
        "\n",
        "model.compile(loss='binary_crossentropy',\n",
        "             optimizer='rmsprop',\n",
        "             metrics=['accuracy'])\n",
        "\n",
        "model.fit(x_train,y_train,batch_size=16, epochs=10)\n",
        "score=model.evaluate(x_test,y_test,batch_size=16)"
      ],
      "execution_count": 8,
      "outputs": [
        {
          "output_type": "stream",
          "text": [
            "Epoch 1/10\n",
            "100/100 [==============================] - 1s 5ms/step - loss: 0.7306 - acc: 0.5200\n",
            "Epoch 2/10\n",
            "100/100 [==============================] - 0s 1ms/step - loss: 0.7163 - acc: 0.4400\n",
            "Epoch 3/10\n",
            "100/100 [==============================] - 0s 1ms/step - loss: 0.6957 - acc: 0.5000\n",
            "Epoch 4/10\n",
            "100/100 [==============================] - 0s 1ms/step - loss: 0.7136 - acc: 0.4500\n",
            "Epoch 5/10\n",
            "100/100 [==============================] - 0s 1ms/step - loss: 0.6799 - acc: 0.6300\n",
            "Epoch 6/10\n",
            "100/100 [==============================] - 0s 1ms/step - loss: 0.7249 - acc: 0.4800\n",
            "Epoch 7/10\n",
            "100/100 [==============================] - 0s 1ms/step - loss: 0.6972 - acc: 0.5000\n",
            "Epoch 8/10\n",
            "100/100 [==============================] - 0s 1ms/step - loss: 0.6983 - acc: 0.5800\n",
            "Epoch 9/10\n",
            "100/100 [==============================] - 0s 1ms/step - loss: 0.6927 - acc: 0.5100\n",
            "Epoch 10/10\n",
            "100/100 [==============================] - 0s 1ms/step - loss: 0.7133 - acc: 0.5200\n",
            "20/20 [==============================] - 0s 6ms/step\n"
          ],
          "name": "stdout"
        }
      ]
    },
    {
      "metadata": {
        "id": "gDt-WI1NIDAD",
        "colab_type": "code",
        "colab": {
          "base_uri": "https://localhost:8080/",
          "height": 36
        },
        "outputId": "76acbef8-01aa-4770-88e0-b48b7e3b9c13"
      },
      "cell_type": "code",
      "source": [
        "score"
      ],
      "execution_count": 9,
      "outputs": [
        {
          "output_type": "execute_result",
          "data": {
            "text/plain": [
              "[0.6935208916664124, 0.45]"
            ]
          },
          "metadata": {
            "tags": []
          },
          "execution_count": 9
        }
      ]
    },
    {
      "metadata": {
        "id": "9eBgjmQOJUWV",
        "colab_type": "code",
        "colab": {}
      },
      "cell_type": "code",
      "source": [
        ""
      ],
      "execution_count": 0,
      "outputs": []
    }
  ]
}