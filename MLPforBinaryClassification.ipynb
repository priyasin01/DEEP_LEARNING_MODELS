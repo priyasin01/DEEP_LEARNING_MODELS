{
  "nbformat": 4,
  "nbformat_minor": 0,
  "metadata": {
    "colab": {
      "name": "MLPforBinaryClassification.ipynb",
      "version": "0.3.2",
      "provenance": [],
      "include_colab_link": true
    },
    "kernelspec": {
      "name": "python3",
      "display_name": "Python 3"
    }
  },
  "cells": [
    {
      "cell_type": "markdown",
      "metadata": {
        "id": "view-in-github",
        "colab_type": "text"
      },
      "source": [
        "[View in Colaboratory](https://colab.research.google.com/github/priyasin01/DEEP_LEARNING_MODELS/blob/master/MLPforBinaryClassification.ipynb)"
      ]
    },
    {
      "metadata": {
        "id": "ELELQTyfzeq4",
        "colab_type": "code",
        "colab": {}
      },
      "cell_type": "code",
      "source": [
        ""
      ],
      "execution_count": 0,
      "outputs": []
    },
    {
      "metadata": {
        "id": "wrxJUodrzh9D",
        "colab_type": "text"
      },
      "cell_type": "markdown",
      "source": [
        "##MLP for binary classification:##"
      ]
    },
    {
      "metadata": {
        "id": "gEXWxKwbzkwA",
        "colab_type": "code",
        "colab": {
          "base_uri": "https://localhost:8080/",
          "height": 36
        },
        "outputId": "b2a970a4-ab78-41a0-f690-ecbb2d77dbca"
      },
      "cell_type": "code",
      "source": [
        "import keras"
      ],
      "execution_count": 1,
      "outputs": [
        {
          "output_type": "stream",
          "text": [
            "Using TensorFlow backend.\n"
          ],
          "name": "stderr"
        }
      ]
    },
    {
      "metadata": {
        "id": "ExT7SkmMzmiN",
        "colab_type": "code",
        "colab": {}
      },
      "cell_type": "code",
      "source": [
        "from keras.models import Sequential\n",
        "from keras.layers import Dense, Dropout"
      ],
      "execution_count": 0,
      "outputs": []
    },
    {
      "metadata": {
        "id": "70vwtHSVztfQ",
        "colab_type": "code",
        "colab": {}
      },
      "cell_type": "code",
      "source": [
        "#Generate Dummy data\n",
        "#Binary classification so only two classes.\n",
        "import numpy as np\n",
        "x_train=np.random.random((1000,20))\n",
        "y_train=np.random.randint(2,size=(1000,1))\n",
        "x_test=np.random.random((100,20))\n",
        "y_test=np.random.randint(2,size=(100,1))\n",
        "model=Sequential()"
      ],
      "execution_count": 0,
      "outputs": []
    },
    {
      "metadata": {
        "id": "OGdBLrtDz9hp",
        "colab_type": "code",
        "colab": {
          "base_uri": "https://localhost:8080/",
          "height": 791
        },
        "outputId": "70504b9b-40cc-4b61-a537-0b1e94d287b8"
      },
      "cell_type": "code",
      "source": [
        "#creating the model\n",
        "# Dense(64) is a fully-connected layer with 64 hidden units.\n",
        "# in the first layer, you must specify the expected input data shape:\n",
        "# here, 20-dimensional vectors.\n",
        "model.add(Dense(64, activation='relu', input_dim=20))\n",
        "model.add(Dropout(0.5))\n",
        "model.add(Dense(64, activation='relu'))\n",
        "model.add(Dropout(0.5))\n",
        "model.add(Dense(1, activation='sigmoid'))\n",
        "\n",
        "model.compile(loss='binary_crossentropy',\n",
        "             optimizer='rmsprop',\n",
        "             metrics=['accuracy'])\n",
        "\n",
        "model.fit(x_train, y_train, epochs=20, batch_size=128)\n",
        "score=model.evaluate(x_test, y_test, batch_size=128)"
      ],
      "execution_count": 6,
      "outputs": [
        {
          "output_type": "stream",
          "text": [
            "Epoch 1/20\n",
            "1000/1000 [==============================] - 0s 243us/step - loss: 0.7349 - acc: 0.4950\n",
            "Epoch 2/20\n",
            "1000/1000 [==============================] - 0s 23us/step - loss: 0.7195 - acc: 0.5040\n",
            "Epoch 3/20\n",
            "1000/1000 [==============================] - 0s 26us/step - loss: 0.7063 - acc: 0.5020\n",
            "Epoch 4/20\n",
            "1000/1000 [==============================] - 0s 23us/step - loss: 0.7061 - acc: 0.5040\n",
            "Epoch 5/20\n",
            "1000/1000 [==============================] - 0s 24us/step - loss: 0.7030 - acc: 0.5000\n",
            "Epoch 6/20\n",
            "1000/1000 [==============================] - 0s 25us/step - loss: 0.7109 - acc: 0.4930\n",
            "Epoch 7/20\n",
            "1000/1000 [==============================] - 0s 24us/step - loss: 0.6960 - acc: 0.5150\n",
            "Epoch 8/20\n",
            "1000/1000 [==============================] - 0s 24us/step - loss: 0.6944 - acc: 0.5240\n",
            "Epoch 9/20\n",
            "1000/1000 [==============================] - 0s 23us/step - loss: 0.6913 - acc: 0.5280\n",
            "Epoch 10/20\n",
            "1000/1000 [==============================] - 0s 25us/step - loss: 0.6861 - acc: 0.5400\n",
            "Epoch 11/20\n",
            "1000/1000 [==============================] - 0s 24us/step - loss: 0.6906 - acc: 0.5380\n",
            "Epoch 12/20\n",
            "1000/1000 [==============================] - 0s 24us/step - loss: 0.6956 - acc: 0.5130\n",
            "Epoch 13/20\n",
            "1000/1000 [==============================] - 0s 32us/step - loss: 0.6964 - acc: 0.5340\n",
            "Epoch 14/20\n",
            "1000/1000 [==============================] - 0s 25us/step - loss: 0.6946 - acc: 0.4960\n",
            "Epoch 15/20\n",
            "1000/1000 [==============================] - 0s 24us/step - loss: 0.6969 - acc: 0.5030\n",
            "Epoch 16/20\n",
            "1000/1000 [==============================] - 0s 27us/step - loss: 0.6918 - acc: 0.5260\n",
            "Epoch 17/20\n",
            "1000/1000 [==============================] - 0s 24us/step - loss: 0.6875 - acc: 0.5440\n",
            "Epoch 18/20\n",
            "1000/1000 [==============================] - 0s 24us/step - loss: 0.6920 - acc: 0.5470\n",
            "Epoch 19/20\n",
            "1000/1000 [==============================] - 0s 25us/step - loss: 0.6928 - acc: 0.5200\n",
            "Epoch 20/20\n",
            "1000/1000 [==============================] - 0s 29us/step - loss: 0.6836 - acc: 0.5530\n",
            "100/100 [==============================] - 0s 370us/step\n"
          ],
          "name": "stdout"
        }
      ]
    },
    {
      "metadata": {
        "id": "C9B4BbzC2ObL",
        "colab_type": "code",
        "colab": {
          "base_uri": "https://localhost:8080/",
          "height": 36
        },
        "outputId": "58b0dd80-8119-4bb2-8fc5-83cf88174fe9"
      },
      "cell_type": "code",
      "source": [
        "score"
      ],
      "execution_count": 7,
      "outputs": [
        {
          "output_type": "execute_result",
          "data": {
            "text/plain": [
              "[0.6966901421546936, 0.46000000834465027]"
            ]
          },
          "metadata": {
            "tags": []
          },
          "execution_count": 7
        }
      ]
    },
    {
      "metadata": {
        "id": "iLWaW-I82SG1",
        "colab_type": "code",
        "colab": {}
      },
      "cell_type": "code",
      "source": [
        ""
      ],
      "execution_count": 0,
      "outputs": []
    }
  ]
}