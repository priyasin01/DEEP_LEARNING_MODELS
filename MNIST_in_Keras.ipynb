{
  "nbformat": 4,
  "nbformat_minor": 0,
  "metadata": {
    "colab": {
      "name": "MNIST in Keras.ipynb",
      "version": "0.3.2",
      "provenance": [],
      "include_colab_link": true
    },
    "kernelspec": {
      "display_name": "Python 3",
      "language": "python",
      "name": "python3"
    }
  },
  "cells": [
    {
      "cell_type": "markdown",
      "metadata": {
        "id": "view-in-github",
        "colab_type": "text"
      },
      "source": [
        "[View in Colaboratory](https://colab.research.google.com/github/priyasin01/DEEP_LEARNING_MODELS/blob/master/MNIST_in_Keras.ipynb)"
      ]
    },
    {
      "metadata": {
        "id": "0HZofA0UeHiz",
        "colab_type": "code",
        "colab": {}
      },
      "cell_type": "code",
      "source": [
        "%matplotlib inline"
      ],
      "execution_count": 0,
      "outputs": []
    },
    {
      "metadata": {
        "id": "1ygwQN2VeHjK",
        "colab_type": "text"
      },
      "cell_type": "markdown",
      "source": [
        "# Building a simple neural-network with Keras\n",
        "\n",
        "**Author: Xavier Snelgrove**\n",
        "\n",
        "This is a simple quick-start in performing digit recognition in a neural network in Keras, for a short tutorial at the University of Toronto. It is largely based on the `mnist_mlp.py` example from the Keras source.\n"
      ]
    },
    {
      "metadata": {
        "id": "D-GOg66KeHjN",
        "colab_type": "text"
      },
      "cell_type": "markdown",
      "source": [
        "## Install prerequisites\n",
        "First steps (instructions for Mac or Linux). You need to install a recent version of Python, plus the packages `keras`, `numpy`, `matplotlib` and `jupyter`.\n",
        "\n",
        "### Install a recent Python\n",
        "\n",
        "If you haven't installed a recent Python I recommend installing via Homebrew on a Mac from http://brew.sh and then installing Python via `brew install python`.\n",
        "\n",
        "\n",
        "### Configure a virtual environment\n",
        "\n",
        "You can install the packages globally, but I suggest installing them in a `virtualenv` virtual environment that basically encapsulates a full isolated Python environment. First you'll need to install a Python package manager called `pip` thus:\n",
        "\n",
        "    easy_install pip\n",
        "    \n",
        "(If you get a permissions error, try adding a `sudo` to the beginning, so `sudo easy_install pip`)\n",
        "\n",
        "Now install virtualenv thus:\n",
        "\n",
        "    pip install virtualenv\n",
        "\n",
        "Navigate to your home directory `cd ~` and create a virtual environment. We'll call it `kerasenv`\n",
        "\n",
        "    virtualenv kerasenv\n",
        "\n",
        "Now, to switch your shell environment to be within the env:\n",
        "\n",
        "    source kerasenv/bin/activate\n",
        "    \n",
        "Great: now you can install the other prerequisites into this environment.\n",
        "\n",
        "    pip install numpy jupyter keras matplotlib\n",
        "    \n",
        "\n",
        "## Open a new notebook\n",
        "\n",
        "Now that everything's installed, you can open one of these web-based Python environments with the following command:\n",
        "\n",
        "    ipython notebook\n",
        "    \n",
        "Create a new Python notebook from the \"New\" menu at the top-right:\n",
        "\n",
        "<img src=\"newnotebook.png\">\n",
        "\n",
        "You should now be able to run Python in your browser!"
      ]
    },
    {
      "metadata": {
        "id": "biXtz4-reHjP",
        "colab_type": "text"
      },
      "cell_type": "markdown",
      "source": [
        "## Time to build a neural network!\n",
        "First let's import some prerequisites"
      ]
    },
    {
      "metadata": {
        "id": "yhy1r5g3eHjS",
        "colab_type": "code",
        "colab": {
          "base_uri": "https://localhost:8080/",
          "height": 35
        },
        "outputId": "e1ed6636-08b4-43a2-f91c-fdffc8a05204"
      },
      "cell_type": "code",
      "source": [
        "import numpy as np\n",
        "import matplotlib.pyplot as plt\n",
        "plt.rcParams['figure.figsize'] = (7,7) # Make the figures a bit bigger\n",
        "\n",
        "from keras.datasets import mnist\n",
        "from keras.models import Sequential\n",
        "from keras.layers.core import Dense, Dropout, Activation\n",
        "from keras.utils import np_utils"
      ],
      "execution_count": 2,
      "outputs": [
        {
          "output_type": "stream",
          "text": [
            "Using TensorFlow backend.\n"
          ],
          "name": "stderr"
        }
      ]
    },
    {
      "metadata": {
        "id": "u1p-SLyVeHjf",
        "colab_type": "text"
      },
      "cell_type": "markdown",
      "source": [
        "## Load training data"
      ]
    },
    {
      "metadata": {
        "id": "qxL8ByBveHjh",
        "colab_type": "code",
        "colab": {
          "base_uri": "https://localhost:8080/",
          "height": 90
        },
        "outputId": "7b8ccbac-9259-458a-b7ff-993e9104ecdc"
      },
      "cell_type": "code",
      "source": [
        "nb_classes = 10\n",
        "\n",
        "# the data, shuffled and split between tran and test sets\n",
        "(X_train, y_train), (X_test, y_test) = mnist.load_data()\n",
        "print(\"X_train original shape\", X_train.shape)\n",
        "print(\"y_train original shape\", y_train.shape)"
      ],
      "execution_count": 3,
      "outputs": [
        {
          "output_type": "stream",
          "text": [
            "Downloading data from https://s3.amazonaws.com/img-datasets/mnist.npz\n",
            "11493376/11490434 [==============================] - 1s 0us/step\n",
            "X_train original shape (60000, 28, 28)\n",
            "y_train original shape (60000,)\n"
          ],
          "name": "stdout"
        }
      ]
    },
    {
      "metadata": {
        "id": "6t7LexTfeHjp",
        "colab_type": "text"
      },
      "cell_type": "markdown",
      "source": [
        "Let's look at some examples of the training data"
      ]
    },
    {
      "metadata": {
        "id": "7H9TmYVkeHjq",
        "colab_type": "code",
        "colab": {
          "base_uri": "https://localhost:8080/",
          "height": 443
        },
        "outputId": "6db86f38-b865-4ece-9a48-ef554158788e"
      },
      "cell_type": "code",
      "source": [
        "for i in range(9):\n",
        "    plt.subplot(3,3,i+1)\n",
        "    plt.imshow(X_train[i], cmap='gray', interpolation='none')\n",
        "    plt.title(\"Class {}\".format(y_train[i]))"
      ],
      "execution_count": 4,
      "outputs": [
        {
          "output_type": "display_data",
          "data": {
            "image/png": "[encoded data removed]",
            "text/plain": [
              "<matplotlib.figure.Figure at 0x7f578b1aa668>"
            ]
          },
          "metadata": {
            "tags": []
          }
        }
      ]
    },
    {
      "metadata": {
        "id": "SEEM1KvneHjz",
        "colab_type": "text"
      },
      "cell_type": "markdown",
      "source": [
        "## Format the data for training\n",
        "Our neural-network is going to take a single vector for each training example, so we need to reshape the input so that each 28x28 image becomes a single 784 dimensional vector. We'll also scale the inputs to be in the range [0-1] rather than [0-255]"
      ]
    },
    {
      "metadata": {
        "id": "JqOOdECYeHj3",
        "colab_type": "code",
        "colab": {
          "base_uri": "https://localhost:8080/",
          "height": 54
        },
        "outputId": "3ba8853f-b661-4582-d10e-300cfda54bc3"
      },
      "cell_type": "code",
      "source": [
        "X_train = X_train.reshape(60000, 784)\n",
        "X_test = X_test.reshape(10000, 784)\n",
        "X_train = X_train.astype('float32')\n",
        "X_test = X_test.astype('float32')\n",
        "X_train /= 255\n",
        "X_test /= 255\n",
        "print(\"Training matrix shape\", X_train.shape)\n",
        "print(\"Testing matrix shape\", X_test.shape)"
      ],
      "execution_count": 5,
      "outputs": [
        {
          "output_type": "stream",
          "text": [
            "Training matrix shape (60000, 784)\n",
            "Testing matrix shape (10000, 784)\n"
          ],
          "name": "stdout"
        }
      ]
    },
    {
      "metadata": {
        "id": "pKORUXy2eHkB",
        "colab_type": "text"
      },
      "cell_type": "markdown",
      "source": [
        "Modify the target matrices to be in the one-hot format, i.e.\n",
        "\n",
        "```\n",
        "0 -> [1, 0, 0, 0, 0, 0, 0, 0, 0]\n",
        "1 -> [0, 1, 0, 0, 0, 0, 0, 0, 0]\n",
        "2 -> [0, 0, 1, 0, 0, 0, 0, 0, 0]\n",
        "etc.\n",
        "```"
      ]
    },
    {
      "metadata": {
        "id": "UsSi94iCeHkC",
        "colab_type": "code",
        "colab": {}
      },
      "cell_type": "code",
      "source": [
        "Y_train = np_utils.to_categorical(y_train, nb_classes)\n",
        "Y_test = np_utils.to_categorical(y_test, nb_classes)"
      ],
      "execution_count": 0,
      "outputs": []
    },
    {
      "metadata": {
        "id": "zhab2YKpeHlA",
        "colab_type": "text"
      },
      "cell_type": "markdown",
      "source": [
        "# Build the neural network\n",
        "Build the neural-network. Here we'll do a simple 3 layer fully connected network.\n",
        "<img src=\"figure.png\" />"
      ]
    },
    {
      "metadata": {
        "id": "q9ScXFcaeHlQ",
        "colab_type": "code",
        "colab": {}
      },
      "cell_type": "code",
      "source": [
        "model = Sequential()\n",
        "model.add(Dense(512, input_shape=(784,)))\n",
        "model.add(Activation('relu')) # An \"activation\" is just a non-linear function applied to the output\n",
        "                              # of the layer above. Here, with a \"rectified linear unit\",\n",
        "                              # we clamp all values below 0 to 0.\n",
        "                           \n",
        "model.add(Dropout(0.2))   # Dropout helps protect the model from memorizing or \"overfitting\" the training data\n",
        "model.add(Dense(512))\n",
        "model.add(Activation('relu'))\n",
        "model.add(Dropout(0.2))\n",
        "model.add(Dense(10))\n",
        "model.add(Activation('softmax')) # This special \"softmax\" activation among other things,\n",
        "                                 # ensures the output is a valid probaility distribution, that is\n",
        "                                 # that its values are all non-negative and sum to 1."
      ],
      "execution_count": 0,
      "outputs": []
    },
    {
      "metadata": {
        "id": "JxcTn1t8eHlh",
        "colab_type": "text"
      },
      "cell_type": "markdown",
      "source": [
        "## Compile the model\n",
        "Keras is built on top of Theano (and now TensorFlow as well), both packages that allow you to define a *computation graph* in Python, which they then compile and run efficiently on the CPU or GPU without the overhead of the Python interpreter.\n",
        "\n",
        "When compiing a model, Keras asks you to specify your **loss function** and your **optimizer**. The loss function we'll use here is called *categorical crossentropy*, and is a loss function well-suited to comparing two probability distributions.\n",
        "\n",
        "Here our predictions are probability distributions across the ten different digits (e.g. \"we're 80% confident this image is a 3, 10% sure it's an 8, 5% it's a 2, etc.\"), and the target is a probability distribution with 100% for the correct category, and 0 for everything else. The cross-entropy is a measure of how different your predicted distribution is from the target distribution. [More detail at Wikipedia](https://en.wikipedia.org/wiki/Cross_entropy)\n",
        "\n",
        "The optimizer helps determine how quickly the model learns, how resistent it is to getting \"stuck\" or \"blowing up\". We won't discuss this in too much detail, but \"adam\" is often a good choice (developed here at U of T)."
      ]
    },
    {
      "metadata": {
        "id": "hixHiiyWeHlm",
        "colab_type": "code",
        "colab": {}
      },
      "cell_type": "code",
      "source": [
        "model.compile(loss='categorical_crossentropy', optimizer='adam', metrics=['accuracy'])"
      ],
      "execution_count": 0,
      "outputs": []
    },
    {
      "metadata": {
        "id": "-Er2d3lieHlv",
        "colab_type": "text"
      },
      "cell_type": "markdown",
      "source": [
        "## Train the model!\n",
        "This is the fun part: you can feed the training data loaded in earlier into this model and it will learn to classify digits"
      ]
    },
    {
      "metadata": {
        "id": "CR7BwRQOeHlx",
        "colab_type": "code",
        "colab": {
          "base_uri": "https://localhost:8080/",
          "height": 201
        },
        "outputId": "d164a2c0-fffd-46fe-ef4d-076eed0742be"
      },
      "cell_type": "code",
      "source": [
        "model.fit(X_train, Y_train,\n",
        "          batch_size=128, epochs=4,\n",
        "           verbose=1,\n",
        "          validation_data=(X_test, Y_test))"
      ],
      "execution_count": 23,
      "outputs": [
        {
          "output_type": "stream",
          "text": [
            "Train on 60000 samples, validate on 10000 samples\n",
            "Epoch 1/4\n",
            "60000/60000 [==============================] - 11s 189us/step - loss: 0.0513 - acc: 0.9836 - val_loss: 0.0639 - val_acc: 0.9801\n",
            "Epoch 2/4\n",
            "60000/60000 [==============================] - 11s 184us/step - loss: 0.0385 - acc: 0.9877 - val_loss: 0.0638 - val_acc: 0.9810\n",
            "Epoch 3/4\n",
            "60000/60000 [==============================] - 11s 184us/step - loss: 0.0375 - acc: 0.9881 - val_loss: 0.0615 - val_acc: 0.9821\n",
            "Epoch 4/4\n",
            "60000/60000 [==============================] - 11s 185us/step - loss: 0.0303 - acc: 0.9901 - val_loss: 0.0706 - val_acc: 0.9806\n"
          ],
          "name": "stdout"
        },
        {
          "output_type": "execute_result",
          "data": {
            "text/plain": [
              "<keras.callbacks.History at 0x7f57849e4dd8>"
            ]
          },
          "metadata": {
            "tags": []
          },
          "execution_count": 23
        }
      ]
    },
    {
      "metadata": {
        "id": "h50Id-uQeHl8",
        "colab_type": "text"
      },
      "cell_type": "markdown",
      "source": [
        "## Finally, evaluate its performance"
      ]
    },
    {
      "metadata": {
        "id": "K6TEbBcheHl-",
        "colab_type": "code",
        "colab": {
          "base_uri": "https://localhost:8080/",
          "height": 54
        },
        "outputId": "c698131b-7de4-49b8-f248-2733f91cba13"
      },
      "cell_type": "code",
      "source": [
        "score = model.evaluate(X_test, Y_test, verbose=0)\n",
        "print('Test score:', score[0])\n",
        "print('Test accuracy:', score[1])"
      ],
      "execution_count": 25,
      "outputs": [
        {
          "output_type": "stream",
          "text": [
            "Test score: 0.07060213778221369\n",
            "Test accuracy: 0.9806\n"
          ],
          "name": "stdout"
        }
      ]
    },
    {
      "metadata": {
        "id": "93yOncQoeHmI",
        "colab_type": "text"
      },
      "cell_type": "markdown",
      "source": [
        "### Inspecting the output\n",
        "\n",
        "It's always a good idea to inspect the output and make sure everything looks sane. Here we'll look at some examples it gets right, and some examples it gets wrong."
      ]
    },
    {
      "metadata": {
        "id": "hxvPkBBkeHmK",
        "colab_type": "code",
        "colab": {}
      },
      "cell_type": "code",
      "source": [
        "# The predict_classes function outputs the highest probability class\n",
        "# according to the trained classifier for each input example.\n",
        "predicted_classes = model.predict_classes(X_test)\n",
        "\n",
        "# Check which items we got right / wrong\n",
        "correct_indices = np.nonzero(predicted_classes == y_test)[0]\n",
        "incorrect_indices = np.nonzero(predicted_classes != y_test)[0]"
      ],
      "execution_count": 0,
      "outputs": []
    },
    {
      "metadata": {
        "id": "mXT9_-IzeHmP",
        "colab_type": "code",
        "colab": {
          "base_uri": "https://localhost:8080/",
          "height": 869
        },
        "outputId": "2ccbcaec-ccc6-4825-f647-bd8a79d31815"
      },
      "cell_type": "code",
      "source": [
        "plt.figure()\n",
        "for i, correct in enumerate(correct_indices[:9]):\n",
        "    plt.subplot(3,3,i+1)\n",
        "    plt.imshow(X_test[correct].reshape(28,28), cmap='gray', interpolation='none')\n",
        "    plt.title(\"Predicted {}, Class {}\".format(predicted_classes[correct], y_test[correct]))\n",
        "    \n",
        "plt.figure()\n",
        "for i, incorrect in enumerate(incorrect_indices[:9]):\n",
        "    plt.subplot(3,3,i+1)\n",
        "    plt.imshow(X_test[incorrect].reshape(28,28), cmap='gray', interpolation='none')\n",
        "    plt.title(\"Predicted {}, Class {}\".format(predicted_classes[incorrect], y_test[incorrect]))"
      ],
      "execution_count": 27,
      "outputs": [
        {
          "output_type": "display_data",
          "data": {
            "image/png": "[encoded data removed]",
            "text/plain": [
              "<matplotlib.figure.Figure at 0x7f578454fbe0>"
            ]
          },
          "metadata": {
            "tags": []
          }
        },
        {
          "output_type": "display_data",
          "data": {
            "image/png": "[encoded data removed]",
            "text/plain": [
              "<matplotlib.figure.Figure at 0x7f5784559278>"
            ]
          },
          "metadata": {
            "tags": []
          }
        }
      ]
    },
    {
      "metadata": {
        "id": "KqRNXw6ieHmY",
        "colab_type": "text"
      },
      "cell_type": "markdown",
      "source": [
        "# That's all!"
      ]
    },
    {
      "metadata": {
        "id": "Jgp7P-gCeHme",
        "colab_type": "text"
      },
      "cell_type": "markdown",
      "source": [
        "There are lots of other great examples at the Keras homepage at http://keras.io and in the source code at https://github.com/fchollet/keras"
      ]
    },
    {
      "metadata": {
        "id": "8D7_6ornf__V",
        "colab_type": "code",
        "colab": {}
      },
      "cell_type": "code",
      "source": [
        ""
      ],
      "execution_count": 0,
      "outputs": []
    }
  ]
}