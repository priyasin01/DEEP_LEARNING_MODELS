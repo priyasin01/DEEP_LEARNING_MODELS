{
  "nbformat": 4,
  "nbformat_minor": 0,
  "metadata": {
    "colab": {
      "name": "LSTMclassificationforsequence.ipynb",
      "version": "0.3.2",
      "provenance": [],
      "include_colab_link": true
    },
    "kernelspec": {
      "name": "python3",
      "display_name": "Python 3"
    },
    "accelerator": "GPU"
  },
  "cells": [
    {
      "cell_type": "markdown",
      "metadata": {
        "id": "view-in-github",
        "colab_type": "text"
      },
      "source": [
        "[View in Colaboratory](https://colab.research.google.com/github/priyasin01/DEEP_LEARNING_MODELS/blob/master/LSTMclassificationforsequence.ipynb)"
      ]
    },
    {
      "metadata": {
        "id": "br0GeWxlD04y",
        "colab_type": "code",
        "colab": {}
      },
      "cell_type": "code",
      "source": [
        ""
      ],
      "execution_count": 0,
      "outputs": []
    },
    {
      "metadata": {
        "id": "JHG4_dvYWHWn",
        "colab_type": "text"
      },
      "cell_type": "markdown",
      "source": [
        "##Sequence classification with LSTM:"
      ]
    },
    {
      "metadata": {
        "id": "v8HyksgWD6jj",
        "colab_type": "code",
        "colab": {
          "base_uri": "https://localhost:8080/",
          "height": 714
        },
        "outputId": "54f3b065-2e15-4a94-8bdb-a583a28d8006"
      },
      "cell_type": "code",
      "source": [
        "#link to colah's blog for understanding LSTM\n",
        "#http://colah.github.io/posts/2015-08-Understanding-LSTMs/\n",
        "import keras\n",
        "from keras.models import Sequential\n",
        "from keras.layers import Dense, Dropout, LSTM, Embedding\n",
        "import numpy as np\n",
        "\n",
        "# Generate dummy data\n",
        "x_train = np.random.random((1000, 20))\n",
        "y_train = np.random.randint(2, size=(1000, 1))\n",
        "x_test = np.random.random((100, 20))\n",
        "y_test = np.random.randint(2, size=(100, 1))\n",
        "\n",
        "max_features=1024\n",
        "model=Sequential()\n",
        "model.add(Embedding(max_features,output_dim=256))\n",
        "model.add(LSTM(128))\n",
        "model.add(Dropout(0.5))\n",
        "model.add(Dense(1,activation='sigmoid'))\n",
        "\n",
        "model.compile(loss='binary_crossentropy',\n",
        "             optimizer='rmsprop',\n",
        "             metrics=['accuracy'])\n",
        "\n",
        "model.fit(x_train,y_train,epochs=20,batch_size=32)\n",
        "score=model.evaluate(x_test,y_test,batch_size=32)\n"
      ],
      "execution_count": 3,
      "outputs": [
        {
          "output_type": "stream",
          "text": [
            "Epoch 1/20\n",
            "1000/1000 [==============================] - 3s 3ms/step - loss: 0.6964 - acc: 0.5040\n",
            "Epoch 2/20\n",
            "1000/1000 [==============================] - 2s 2ms/step - loss: 0.6965 - acc: 0.4990\n",
            "Epoch 3/20\n",
            "1000/1000 [==============================] - 2s 2ms/step - loss: 0.6957 - acc: 0.5260\n",
            "Epoch 4/20\n",
            "1000/1000 [==============================] - 2s 2ms/step - loss: 0.6958 - acc: 0.4810\n",
            "Epoch 5/20\n",
            "1000/1000 [==============================] - 2s 2ms/step - loss: 0.6945 - acc: 0.5070\n",
            "Epoch 6/20\n",
            "1000/1000 [==============================] - 2s 2ms/step - loss: 0.6955 - acc: 0.4940\n",
            "Epoch 7/20\n",
            "1000/1000 [==============================] - 2s 2ms/step - loss: 0.6950 - acc: 0.5100\n",
            "Epoch 8/20\n",
            "1000/1000 [==============================] - 2s 2ms/step - loss: 0.6951 - acc: 0.4940\n",
            "Epoch 9/20\n",
            "1000/1000 [==============================] - 2s 2ms/step - loss: 0.6947 - acc: 0.5050\n",
            "Epoch 10/20\n",
            "1000/1000 [==============================] - 2s 2ms/step - loss: 0.6948 - acc: 0.4720\n",
            "Epoch 11/20\n",
            "1000/1000 [==============================] - 2s 2ms/step - loss: 0.6936 - acc: 0.4970\n",
            "Epoch 12/20\n",
            "1000/1000 [==============================] - 2s 2ms/step - loss: 0.6945 - acc: 0.5040\n",
            "Epoch 13/20\n",
            "1000/1000 [==============================] - 2s 2ms/step - loss: 0.6938 - acc: 0.4940\n",
            "Epoch 14/20\n",
            "1000/1000 [==============================] - 2s 2ms/step - loss: 0.6943 - acc: 0.4980\n",
            "Epoch 15/20\n",
            "1000/1000 [==============================] - 2s 2ms/step - loss: 0.6940 - acc: 0.4940\n",
            "Epoch 16/20\n",
            "1000/1000 [==============================] - 2s 2ms/step - loss: 0.6942 - acc: 0.4880\n",
            "Epoch 17/20\n",
            "1000/1000 [==============================] - 2s 2ms/step - loss: 0.6942 - acc: 0.4760\n",
            "Epoch 18/20\n",
            "1000/1000 [==============================] - 2s 2ms/step - loss: 0.6935 - acc: 0.4960\n",
            "Epoch 19/20\n",
            "1000/1000 [==============================] - 2s 2ms/step - loss: 0.6936 - acc: 0.5170\n",
            "Epoch 20/20\n",
            "1000/1000 [==============================] - 2s 2ms/step - loss: 0.6942 - acc: 0.5010\n",
            "100/100 [==============================] - 0s 2ms/step\n"
          ],
          "name": "stdout"
        }
      ]
    },
    {
      "metadata": {
        "id": "cmeYIhkXXySt",
        "colab_type": "code",
        "colab": {
          "base_uri": "https://localhost:8080/",
          "height": 34
        },
        "outputId": "aaf4ead8-f51e-4b92-b08b-085948d2d868"
      },
      "cell_type": "code",
      "source": [
        "score"
      ],
      "execution_count": 4,
      "outputs": [
        {
          "output_type": "execute_result",
          "data": {
            "text/plain": [
              "[0.6917452239990234, 0.58]"
            ]
          },
          "metadata": {
            "tags": []
          },
          "execution_count": 4
        }
      ]
    },
    {
      "metadata": {
        "id": "JVw0TJbDYWwQ",
        "colab_type": "code",
        "colab": {}
      },
      "cell_type": "code",
      "source": [
        ""
      ],
      "execution_count": 0,
      "outputs": []
    }
  ]
}