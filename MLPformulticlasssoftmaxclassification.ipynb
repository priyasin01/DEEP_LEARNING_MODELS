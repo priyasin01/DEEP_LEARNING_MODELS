{
  "nbformat": 4,
  "nbformat_minor": 0,
  "metadata": {
    "colab": {
      "name": "MLPformulticlasssoftmaxclassification.ipynb",
      "version": "0.3.2",
      "provenance": [],
      "include_colab_link": true
    },
    "kernelspec": {
      "name": "python3",
      "display_name": "Python 3"
    },
    "accelerator": "GPU"
  },
  "cells": [
    {
      "cell_type": "markdown",
      "metadata": {
        "id": "view-in-github",
        "colab_type": "text"
      },
      "source": [
        "[View in Colaboratory](https://colab.research.google.com/github/priyasin01/DEEP_LEARNING_MODELS/blob/master/MLPformulticlasssoftmaxclassification.ipynb)"
      ]
    },
    {
      "metadata": {
        "id": "H6leoY3Usbid",
        "colab_type": "code",
        "colab": {}
      },
      "cell_type": "code",
      "source": [
        ""
      ],
      "execution_count": 0,
      "outputs": []
    },
    {
      "metadata": {
        "id": "JltRgg1FtrTe",
        "colab_type": "text"
      },
      "cell_type": "markdown",
      "source": [
        "##Multilayer Perceptron (MLP) for multi-class softmax classification:##"
      ]
    },
    {
      "metadata": {
        "id": "wT6wZXk5swsL",
        "colab_type": "code",
        "colab": {}
      },
      "cell_type": "code",
      "source": [
        "import keras\n",
        "from keras.models import Sequential\n",
        "from keras.layers import Dense, Dropout, Activation\n",
        "from keras.optimizers import SGD"
      ],
      "execution_count": 0,
      "outputs": []
    },
    {
      "metadata": {
        "id": "kH49cOE7txsD",
        "colab_type": "code",
        "colab": {}
      },
      "cell_type": "code",
      "source": [
        "#Generate dummy data\n",
        "# For a single-input model with 10 classes (categorical classification):\n",
        "import numpy as np\n",
        "x_train=np.random.random((1000,20))\n",
        "y_train=keras.utils.to_categorical(np.random.randint(10,size=(1000,1)),num_classes=10)\n",
        "x_test=np.random.random((100,20))\n",
        "y_test=keras.utils.to_categorical(np.random.randint(10,size=(100,1)),num_classes=10)\n",
        "model=Sequential()"
      ],
      "execution_count": 0,
      "outputs": []
    },
    {
      "metadata": {
        "id": "xgy-KGeTuy9i",
        "colab_type": "code",
        "colab": {
          "base_uri": "https://localhost:8080/",
          "height": 1923
        },
        "outputId": "14dedd07-a5cb-4ae8-8bd3-5c931491f68a"
      },
      "cell_type": "code",
      "source": [
        "# Dense(64) is a fully-connected layer with 64 hidden units.\n",
        "# in the first layer, you must specify the expected input data shape:\n",
        "# here, 20-dimensional vectors.\n",
        "model.add(Dense(64, activation='relu', input_dim=20))\n",
        "model.add(Dropout(0.5))\n",
        "model.add(Dense(64, activation='relu'))\n",
        "model.add(Dropout(0.5))\n",
        "model.add(Dense(10, activation='softmax'))\n",
        "sgd=SGD(lr=0.01, decay=1e-6, momentum=0.9, nesterov=True)\n",
        "model.compile(loss='categorical_crossentropy',\n",
        "             optimizer=sgd,\n",
        "             metrics=['accuracy'])\n",
        "model.fit(x_train, y_train, epochs=50, batch_size=128)\n",
        "score=model.evaluate(x_test, y_test, batch_size=128)"
      ],
      "execution_count": 0,
      "outputs": [
        {
          "output_type": "stream",
          "text": [
            "Epoch 1/50\n",
            "1000/1000 [==============================] - 1s 507us/step - loss: 2.3009 - acc: 0.1050\n",
            "Epoch 2/50\n",
            "1000/1000 [==============================] - 0s 76us/step - loss: 2.3029 - acc: 0.1040\n",
            "Epoch 3/50\n",
            "1000/1000 [==============================] - 0s 70us/step - loss: 2.3011 - acc: 0.1070\n",
            "Epoch 4/50\n",
            "1000/1000 [==============================] - 0s 68us/step - loss: 2.2995 - acc: 0.1150\n",
            "Epoch 5/50\n",
            "1000/1000 [==============================] - 0s 71us/step - loss: 2.3019 - acc: 0.1120\n",
            "Epoch 6/50\n",
            "1000/1000 [==============================] - 0s 66us/step - loss: 2.3022 - acc: 0.1180\n",
            "Epoch 7/50\n",
            "1000/1000 [==============================] - 0s 75us/step - loss: 2.3003 - acc: 0.1070\n",
            "Epoch 8/50\n",
            "1000/1000 [==============================] - 0s 78us/step - loss: 2.2993 - acc: 0.1130\n",
            "Epoch 9/50\n",
            "1000/1000 [==============================] - 0s 68us/step - loss: 2.2992 - acc: 0.1180\n",
            "Epoch 10/50\n",
            "1000/1000 [==============================] - 0s 74us/step - loss: 2.3013 - acc: 0.1120\n",
            "Epoch 11/50\n",
            "1000/1000 [==============================] - 0s 73us/step - loss: 2.2987 - acc: 0.1200\n",
            "Epoch 12/50\n",
            "1000/1000 [==============================] - 0s 69us/step - loss: 2.2986 - acc: 0.1180\n",
            "Epoch 13/50\n",
            "1000/1000 [==============================] - 0s 76us/step - loss: 2.2998 - acc: 0.1150\n",
            "Epoch 14/50\n",
            "1000/1000 [==============================] - 0s 71us/step - loss: 2.3001 - acc: 0.1190\n",
            "Epoch 15/50\n",
            "1000/1000 [==============================] - 0s 64us/step - loss: 2.2993 - acc: 0.1130\n",
            "Epoch 16/50\n",
            "1000/1000 [==============================] - 0s 65us/step - loss: 2.2998 - acc: 0.1180\n",
            "Epoch 17/50\n",
            "1000/1000 [==============================] - 0s 67us/step - loss: 2.2994 - acc: 0.1210\n",
            "Epoch 18/50\n",
            "1000/1000 [==============================] - 0s 68us/step - loss: 2.2999 - acc: 0.1200\n",
            "Epoch 19/50\n",
            "1000/1000 [==============================] - 0s 67us/step - loss: 2.2976 - acc: 0.1090\n",
            "Epoch 20/50\n",
            "1000/1000 [==============================] - 0s 67us/step - loss: 2.3002 - acc: 0.1210\n",
            "Epoch 21/50\n",
            "1000/1000 [==============================] - 0s 71us/step - loss: 2.2996 - acc: 0.1110\n",
            "Epoch 22/50\n",
            "1000/1000 [==============================] - 0s 65us/step - loss: 2.2977 - acc: 0.1190\n",
            "Epoch 23/50\n",
            "1000/1000 [==============================] - 0s 66us/step - loss: 2.2992 - acc: 0.1230\n",
            "Epoch 24/50\n",
            "1000/1000 [==============================] - 0s 79us/step - loss: 2.2984 - acc: 0.1260\n",
            "Epoch 25/50\n",
            "1000/1000 [==============================] - 0s 75us/step - loss: 2.2981 - acc: 0.1250\n",
            "Epoch 26/50\n",
            "1000/1000 [==============================] - 0s 77us/step - loss: 2.2994 - acc: 0.1150\n",
            "Epoch 27/50\n",
            "1000/1000 [==============================] - 0s 78us/step - loss: 2.2985 - acc: 0.1200\n",
            "Epoch 28/50\n",
            "1000/1000 [==============================] - 0s 76us/step - loss: 2.2975 - acc: 0.1210\n",
            "Epoch 29/50\n",
            "1000/1000 [==============================] - 0s 80us/step - loss: 2.2974 - acc: 0.1090\n",
            "Epoch 30/50\n",
            "1000/1000 [==============================] - 0s 95us/step - loss: 2.2987 - acc: 0.1140\n",
            "Epoch 31/50\n",
            "1000/1000 [==============================] - 0s 81us/step - loss: 2.3006 - acc: 0.1200\n",
            "Epoch 32/50\n",
            "1000/1000 [==============================] - 0s 81us/step - loss: 2.2986 - acc: 0.1110\n",
            "Epoch 33/50\n",
            "1000/1000 [==============================] - 0s 76us/step - loss: 2.2986 - acc: 0.1150\n",
            "Epoch 34/50\n",
            "1000/1000 [==============================] - 0s 75us/step - loss: 2.2980 - acc: 0.1200\n",
            "Epoch 35/50\n",
            "1000/1000 [==============================] - 0s 88us/step - loss: 2.2986 - acc: 0.1200\n",
            "Epoch 36/50\n",
            "1000/1000 [==============================] - 0s 79us/step - loss: 2.2994 - acc: 0.1210\n",
            "Epoch 37/50\n",
            "1000/1000 [==============================] - 0s 80us/step - loss: 2.2971 - acc: 0.1150\n",
            "Epoch 38/50\n",
            "1000/1000 [==============================] - 0s 80us/step - loss: 2.3002 - acc: 0.1190\n",
            "Epoch 39/50\n",
            "1000/1000 [==============================] - 0s 78us/step - loss: 2.2980 - acc: 0.1090\n",
            "Epoch 40/50\n",
            "1000/1000 [==============================] - 0s 76us/step - loss: 2.2989 - acc: 0.1190\n",
            "Epoch 41/50\n",
            "1000/1000 [==============================] - 0s 78us/step - loss: 2.2992 - acc: 0.1160\n",
            "Epoch 42/50\n",
            "1000/1000 [==============================] - 0s 81us/step - loss: 2.2995 - acc: 0.1180\n",
            "Epoch 43/50\n",
            "1000/1000 [==============================] - 0s 78us/step - loss: 2.2983 - acc: 0.1200\n",
            "Epoch 44/50\n",
            "1000/1000 [==============================] - 0s 81us/step - loss: 2.2988 - acc: 0.1150\n",
            "Epoch 45/50\n",
            "1000/1000 [==============================] - 0s 97us/step - loss: 2.2980 - acc: 0.1220\n",
            "Epoch 46/50\n",
            "1000/1000 [==============================] - 0s 81us/step - loss: 2.2981 - acc: 0.1180\n",
            "Epoch 47/50\n",
            "1000/1000 [==============================] - 0s 78us/step - loss: 2.2969 - acc: 0.1190\n",
            "Epoch 48/50\n",
            "1000/1000 [==============================] - 0s 84us/step - loss: 2.2975 - acc: 0.1220\n",
            "Epoch 49/50\n",
            "1000/1000 [==============================] - 0s 81us/step - loss: 2.2980 - acc: 0.1220\n",
            "Epoch 50/50\n",
            "1000/1000 [==============================] - 0s 87us/step - loss: 2.2979 - acc: 0.1210\n",
            "100/100 [==============================] - 0s 893us/step\n"
          ],
          "name": "stdout"
        }
      ]
    },
    {
      "metadata": {
        "id": "X2CzOb3LwX65",
        "colab_type": "code",
        "colab": {}
      },
      "cell_type": "code",
      "source": [
        ""
      ],
      "execution_count": 0,
      "outputs": []
    }
  ]
}